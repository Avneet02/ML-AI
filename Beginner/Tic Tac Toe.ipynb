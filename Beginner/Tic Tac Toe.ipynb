{
 "cells": [
  {
   "cell_type": "code",
   "execution_count": null,
   "metadata": {},
   "outputs": [],
   "source": [
    "def view(li, ty = 'c'):\n",
    "    c = 0\n",
    "    for i in range(5):\n",
    "        if i%2 == 0:\n",
    "            for j in range(5):\n",
    "                if j%2 == 0:\n",
    "                    if ty == 's': \n",
    "                        print(c+1,end = '')\n",
    "                    else:\n",
    "                        if li[c] in ('x','o'):\n",
    "                            print(li[c],end = '')\n",
    "                        else:\n",
    "                            print(' ',end = '')\n",
    "                    c += 1\n",
    "                else:\n",
    "                    print('|',end = '')\n",
    "        else:\n",
    "            print('-'*5,end = '')\n",
    "        print()\n",
    "    print('\\n\\n')"
   ]
  },
  {
   "cell_type": "code",
   "execution_count": null,
   "metadata": {},
   "outputs": [],
   "source": [
    "def check_result(li):\n",
    "    win_combo = [[1,2,3],[4,5,6],[7,8,9],[1,4,7],[2,5,8],[3,6,9],[1,5,9],[3,5,7]]\n",
    "    for i in range(8):\n",
    "        for j in range(3):\n",
    "            if win_combo[i][j] not in li:\n",
    "                break\n",
    "        else:\n",
    "            return 1\n",
    "    return 0"
   ]
  },
  {
   "cell_type": "code",
   "execution_count": null,
   "metadata": {},
   "outputs": [],
   "source": [
    "def select_no(name,li,l1,l2,mark):\n",
    "    ter = 1\n",
    "    while ter == 1:\n",
    "        no = input(f\"Select a number from 1 to 9 to be marked with ({mark}) same as in sample board, {name}\")\n",
    "        if no.isdigit() == False:\n",
    "            print(\"OOPS you have to enter number b/w 1 to 9 in digit try again\")\n",
    "            continue\n",
    "        elif no not in '123456789':\n",
    "            print(\"OOPS you have to enter a number b/w 1 to 9 try again\")\n",
    "            continue\n",
    "        a = int(no)\n",
    "        if  a in l1 or a in l2:\n",
    "            print(\"OOPS position is already marked Plzz choose another number\")\n",
    "            continue\n",
    "        ter = 2\n",
    "    return no"
   ]
  },
  {
   "cell_type": "code",
   "execution_count": null,
   "metadata": {},
   "outputs": [],
   "source": [
    "def update_list(li,pos,mark):\n",
    "    for i in range(len(li)):\n",
    "        if i+1 == pos:\n",
    "            li[i] = mark\n",
    "    return li"
   ]
  },
  {
   "cell_type": "code",
   "execution_count": null,
   "metadata": {},
   "outputs": [],
   "source": [
    "def player_details(pl_no = 2):\n",
    "    name = input(f\"Plzz enter your name player {pl_no}: \")\n",
    "    if pl_no == 1:\n",
    "        print(f'your mark is (x) {name}')\n",
    "        return name\n",
    "    else:\n",
    "        print(f'your mark is (o) {name}')\n",
    "        return name"
   ]
  },
  {
   "cell_type": "code",
   "execution_count": null,
   "metadata": {},
   "outputs": [],
   "source": [
    "from IPython.display import clear_output\n",
    "def main():\n",
    "    pl_det = []\n",
    "    sc = [0,0]\n",
    "    x = []\n",
    "    o = []\n",
    "    ch = ''\n",
    "    #Entering Players detail\n",
    "    pl_det.append(player_details(1))\n",
    "    pl_det.append(player_details())\n",
    "    while ch != 'no':\n",
    "        ch = 'yaas'\n",
    "        lis = [1,2,3,4,5,6,7,8,9]\n",
    "        x = []\n",
    "        o = []\n",
    "        #code for a single round\n",
    "        for i in range(9):\n",
    "            clear_output()\n",
    "            print(\"********Welcome to tic tac toe game********\")\n",
    "            print(f'***Current Score***')\n",
    "            print(f'{pl_det[0]}: {sc[0]}')\n",
    "            print(f'{pl_det[1]}: {sc[1]}')\n",
    "            print('sample board')\n",
    "            view(lis,'s')\n",
    "            print('current board')\n",
    "            view(lis)\n",
    "            #player turn's code\n",
    "            if i%2 == 0:\n",
    "                no = int(select_no(pl_det[0],lis,x,o,'x'))\n",
    "                lis = update_list(lis,no,'x')\n",
    "                x.append(no)\n",
    "            else:\n",
    "                no = int(select_no(pl_det[1],lis,x,o,'o'))\n",
    "                lis = update_list(lis,no,'o')\n",
    "                o.append(no)\n",
    "            #checking if either player has won\n",
    "            if check_result(x) == 1:\n",
    "                clear_output()\n",
    "                sc[0]  += 1\n",
    "                print(f'{pl_det[0]} won this round')\n",
    "                break\n",
    "            elif check_result(o) == 1:\n",
    "                clear_output()\n",
    "                sc[1]  += 1\n",
    "                print(f'{pl_det[1]} won this round')\n",
    "                break\n",
    "            else:\n",
    "                pass\n",
    "            if i == 8:\n",
    "                clear_output()\n",
    "                print(\"Round drawn\")\n",
    "                break\n",
    "                print('current board')\n",
    "        view(lis)\n",
    "        #Stopper to see result after round\n",
    "        stooper = input(\"Press enter to continue\")\n",
    "        clear_output()\n",
    "        #score after round\n",
    "        print(f'***Score after Round***')\n",
    "        print(f'{pl_det[0]}: {sc[0]}')\n",
    "        print(f'{pl_det[1]}: {sc[1]}')\n",
    "        #check for user to oly enter yes or no\n",
    "        while ch not in ('yes','no'):\n",
    "            ch = input(\"Want to play more round (yes/no):\")\n",
    "            if ch in ('yes','no'):\n",
    "                break\n",
    "            else:\n",
    "                print(\"Sorry you entered wrong answer plzz answer again\")\n",
    "    clear_output()\n",
    "    print(f'''***Final Score***\n",
    "    {pl_det[0]}: {sc[0]}\n",
    "    {pl_det[1]}: {sc[1]}''')\n",
    "    #Result Declaration\n",
    "    if sc[0] > sc[1]:\n",
    "        print(f'{pl_det[0]} won')\n",
    "    elif sc[1] > sc[0]:\n",
    "        print(f'{pl_det[1]} won')\n",
    "    else:\n",
    "        print('WOW Match Drawn')"
   ]
  },
  {
   "cell_type": "code",
   "execution_count": null,
   "metadata": {
    "scrolled": true
   },
   "outputs": [],
   "source": [
    "main()"
   ]
  },
  {
   "cell_type": "code",
   "execution_count": null,
   "metadata": {},
   "outputs": [],
   "source": []
  }
 ],
 "metadata": {
  "kernelspec": {
   "display_name": "Python 3",
   "language": "python",
   "name": "python3"
  },
  "language_info": {
   "codemirror_mode": {
    "name": "ipython",
    "version": 3
   },
   "file_extension": ".py",
   "mimetype": "text/x-python",
   "name": "python",
   "nbconvert_exporter": "python",
   "pygments_lexer": "ipython3",
   "version": "3.8.8"
  }
 },
 "nbformat": 4,
 "nbformat_minor": 4
}
