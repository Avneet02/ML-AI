{
 "cells": [
  {
   "cell_type": "code",
   "execution_count": null,
   "metadata": {},
   "outputs": [],
   "source": [
    "import pandas as pd\n",
    "import numpy as np"
   ]
  },
  {
   "cell_type": "code",
   "execution_count": null,
   "metadata": {},
   "outputs": [],
   "source": [
    "file=\"./data.csv\""
   ]
  },
  {
   "cell_type": "code",
   "execution_count": null,
   "metadata": {},
   "outputs": [],
   "source": [
    "data=pd.read_csv(file)\n",
    "data"
   ]
  },
  {
   "cell_type": "code",
   "execution_count": null,
   "metadata": {},
   "outputs": [],
   "source": [
    "dataF=np.array(data)[:,:]\n",
    "# dataF"
   ]
  },
  {
   "cell_type": "code",
   "execution_count": null,
   "metadata": {},
   "outputs": [],
   "source": [
    "concept=np.array(data)[:,:-1]\n",
    "# concept"
   ]
  },
  {
   "cell_type": "code",
   "execution_count": null,
   "metadata": {},
   "outputs": [],
   "source": [
    "target=np.array(data)[:,-1]\n",
    "# target"
   ]
  },
  {
   "cell_type": "code",
   "execution_count": null,
   "metadata": {},
   "outputs": [],
   "source": [
    "def train(con,tar):\n",
    "    specific_h = con[0].copy()\n",
    "    general_h=[['?' for x in range(len(specific_h))] for x in range(len(specific_h))]\n",
    "    \n",
    "    for i,val in enumerate(con):\n",
    "        if tar[i] == 'yes':\n",
    "            for x in range(len(specific_h)):\n",
    "                if(val[x] != specific_h[x]):\n",
    "                    specific_h[x] = '?'\n",
    "                    general_h[x][x] = '?'\n",
    "        else:\n",
    "            for x in range(len(specific_h)):\n",
    "                if val[x] != specific_h[x]:\n",
    "                    general_h[x][x] = specific_h[x]\n",
    "                else:\n",
    "                    general_h[x][x]='?'\n",
    "                    \n",
    "        print(\"Iteration[\"+ str(i+1) + \"]\")\n",
    "        print(\"Specific: \"+str(specific_h))\n",
    "        print(\"General: \"+str(general_h)+\"\\n\\n\")\n",
    "    \n",
    "    general_h =[general_h[i] for i, val in enumerate(general_h) if val!= ['?' for x in range(len(specific_h))]]\n",
    "    return specific_h, general_h"
   ]
  },
  {
   "cell_type": "code",
   "execution_count": null,
   "metadata": {},
   "outputs": [],
   "source": [
    "specific , general = train(concept,target)\n",
    "print(\"Final hypothesis: \")\n",
    "print(\"Specific hypothesis: \" +str(specific))\n",
    "print(\"General hypothses: \"+ str(general))"
   ]
  }
 ],
 "metadata": {
  "language_info": {
   "name": "python"
  },
  "orig_nbformat": 4
 },
 "nbformat": 4,
 "nbformat_minor": 2
}
